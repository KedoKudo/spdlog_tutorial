{
 "cells": [
  {
   "cell_type": "markdown",
   "metadata": {},
   "source": [
    "# Overview\n",
    "\n",
    "This notebook presents a brief tutorial on using [spdlog](https://github.com/gabime/spdlog) as the logging engine for a c++ application."
   ]
  },
  {
   "cell_type": "markdown",
   "metadata": {},
   "source": [
    "## Table of content\n",
    "\n",
    "0. Quick preview\n",
    "1. Introduction\n",
    "2. Setting up `spdlog`\n",
    "3. `poco` and `spdlog`\n",
    "4. Advanced `spdlog` features\n",
    "5. Best practice\n",
    "6. Where to go from here"
   ]
  },
  {
   "cell_type": "markdown",
   "metadata": {},
   "source": [
    "Here we are using `xeus-cling` to add a `c++` kernel for the Jupyter notebook.\n",
    "`spdlog` is not depeneding on either `jupyter` or `xeus-cling` and can be used in any C++ application. "
   ]
  },
  {
   "cell_type": "code",
   "execution_count": 1,
   "metadata": {},
   "outputs": [],
   "source": [
    "#pragma cling add_include_path(\"/home/8cz/micromamba/envs/spdlog_tutorial/include\")\n",
    "#pragma cling add_library_path(\"/home/8cz/micromamba/envs/spdlog_tutorial/lib\")"
   ]
  },
  {
   "cell_type": "code",
   "execution_count": 2,
   "metadata": {},
   "outputs": [],
   "source": [
    "#pragma cling load(\"spdlog\")"
   ]
  },
  {
   "cell_type": "code",
   "execution_count": 15,
   "metadata": {},
   "outputs": [],
   "source": [
    "#pragma cling load(\"fmt\")"
   ]
  },
  {
   "cell_type": "markdown",
   "metadata": {},
   "source": [
    "## 0. Quick preview"
   ]
  },
  {
   "cell_type": "code",
   "execution_count": 3,
   "metadata": {
    "vscode": {
     "languageId": "cpp"
    }
   },
   "outputs": [],
   "source": [
    "#include <spdlog/spdlog.h>"
   ]
  },
  {
   "cell_type": "markdown",
   "metadata": {},
   "source": [
    "`spdlog` has support for all common logging levels and provide easy access to the default sink."
   ]
  },
  {
   "cell_type": "code",
   "execution_count": 4,
   "metadata": {},
   "outputs": [],
   "source": [
    "spdlog::info(\"***Welcome to spdlog!***\");"
   ]
  },
  {
   "cell_type": "code",
   "execution_count": 5,
   "metadata": {},
   "outputs": [],
   "source": [
    "spdlog::error(\"Some error message with arg: {}\", 1);"
   ]
  },
  {
   "cell_type": "code",
   "execution_count": 6,
   "metadata": {},
   "outputs": [],
   "source": [
    "spdlog::warn(\"Easy padding in numbers like {:08d}\", 12);"
   ]
  },
  {
   "cell_type": "code",
   "execution_count": 7,
   "metadata": {},
   "outputs": [],
   "source": [
    "spdlog::critical(\"Support for int: {0:d};  hex: {0:x};  oct: {0:o}; bin: {0:b}\", 42);"
   ]
  },
  {
   "cell_type": "markdown",
   "metadata": {},
   "source": [
    "it also supports c++ built-in formatting syntax"
   ]
  },
  {
   "cell_type": "code",
   "execution_count": 8,
   "metadata": {},
   "outputs": [],
   "source": [
    "spdlog::info(\"Support for floats {:03.2f}\", 1.23456);\n",
    "spdlog::info(\"Positional args are {1} {0}..\", \"too\", \"supported\");\n",
    "spdlog::info(\"{:<30}\", \"left aligned\");"
   ]
  },
  {
   "cell_type": "markdown",
   "metadata": {},
   "source": [
    "can also change the debug level on-the-fly"
   ]
  },
  {
   "cell_type": "code",
   "execution_count": 9,
   "metadata": {},
   "outputs": [],
   "source": [
    "spdlog::set_level(spdlog::level::debug);\n",
    "spdlog::debug(\"This DEBUG message will be displayed..\");"
   ]
  },
  {
   "cell_type": "markdown",
   "metadata": {},
   "source": [
    "Create stdout/stderr logger object"
   ]
  },
  {
   "cell_type": "code",
   "execution_count": 10,
   "metadata": {},
   "outputs": [],
   "source": [
    "#include <spdlog/sinks/stdout_color_sinks.h>\n",
    "\n",
    "auto console = spdlog::stdout_color_mt(\"console\");\n",
    "auto err_logger = spdlog::stderr_color_mt(\"stderr\");\n",
    "spdlog::get(\"console\")->info(\"loggers can be retrieved from a global registry using the spdlog::get(logger_name)\");"
   ]
  },
  {
   "cell_type": "markdown",
   "metadata": {},
   "source": [
    "Asynchronous logger"
   ]
  },
  {
   "cell_type": "code",
   "execution_count": null,
   "metadata": {},
   "outputs": [],
   "source": []
  }
 ],
 "metadata": {
  "kernelspec": {
   "display_name": "C++17",
   "language": "C++17",
   "name": "xcpp17"
  },
  "language_info": {
   "codemirror_mode": "text/x-c++src",
   "file_extension": ".cpp",
   "mimetype": "text/x-c++src",
   "name": "c++",
   "version": "17"
  }
 },
 "nbformat": 4,
 "nbformat_minor": 4
}
