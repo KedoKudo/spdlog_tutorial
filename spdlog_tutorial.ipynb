{
 "cells": [
  {
   "cell_type": "markdown",
   "metadata": {},
   "source": [
    "# Overview\n",
    "\n",
    "This notebook presents a brief tutorial on using [spdlog](https://github.com/gabime/spdlog) as the logging engine for a c++ application."
   ]
  },
  {
   "cell_type": "markdown",
   "metadata": {},
   "source": [
    "## Table of content\n",
    "\n",
    "0. Quick preview\n",
    "1. Introduction\n",
    "2. Setting up `spdlog`\n",
    "3. `poco` and `spdlog`\n",
    "4. Advanced `spdlog` features\n",
    "5. Where to go from here"
   ]
  },
  {
   "cell_type": "markdown",
   "metadata": {},
   "source": [
    "Here we are using `xeus-cling` to add a `c++` kernel for the Jupyter notebook.\n",
    "`spdlog` is not depeneding on either `jupyter` or `xeus-cling` and can be used in any C++ application. "
   ]
  },
  {
   "cell_type": "code",
   "execution_count": 1,
   "metadata": {},
   "outputs": [],
   "source": [
    "#pragma cling add_include_path(\"/home/8cz/micromamba/envs/spdlog_tutorial/include\")\n",
    "#pragma cling add_library_path(\"/home/8cz/micromamba/envs/spdlog_tutorial/lib\")"
   ]
  },
  {
   "cell_type": "code",
   "execution_count": 2,
   "metadata": {},
   "outputs": [],
   "source": [
    "#pragma cling load(\"spdlog\")"
   ]
  },
  {
   "cell_type": "code",
   "execution_count": 15,
   "metadata": {},
   "outputs": [],
   "source": [
    "#pragma cling load(\"poco\")"
   ]
  },
  {
   "cell_type": "markdown",
   "metadata": {},
   "source": [
    "## 0. Quick preview"
   ]
  },
  {
   "cell_type": "code",
   "execution_count": 3,
   "metadata": {
    "vscode": {
     "languageId": "cpp"
    }
   },
   "outputs": [],
   "source": [
    "#include <spdlog/spdlog.h>"
   ]
  },
  {
   "cell_type": "markdown",
   "metadata": {},
   "source": [
    "`spdlog` has support for all common logging levels and provide easy access to the default sink."
   ]
  },
  {
   "cell_type": "code",
   "execution_count": 4,
   "metadata": {},
   "outputs": [],
   "source": [
    "spdlog::info(\"***Welcome to spdlog!***\");"
   ]
  },
  {
   "cell_type": "code",
   "execution_count": 5,
   "metadata": {},
   "outputs": [],
   "source": [
    "spdlog::error(\"Some error message with arg: {}\", 1);"
   ]
  },
  {
   "cell_type": "code",
   "execution_count": 6,
   "metadata": {},
   "outputs": [],
   "source": [
    "spdlog::warn(\"Easy padding in numbers like {:08d}\", 12);"
   ]
  },
  {
   "cell_type": "code",
   "execution_count": 7,
   "metadata": {},
   "outputs": [],
   "source": [
    "spdlog::critical(\"Support for int: {0:d};  hex: {0:x};  oct: {0:o}; bin: {0:b}\", 42);"
   ]
  },
  {
   "cell_type": "markdown",
   "metadata": {},
   "source": [
    "it also supports c++ built-in formatting syntax"
   ]
  },
  {
   "cell_type": "code",
   "execution_count": 8,
   "metadata": {},
   "outputs": [],
   "source": [
    "spdlog::info(\"Support for floats {:03.2f}\", 1.23456);\n",
    "spdlog::info(\"Positional args are {1} {0}..\", \"too\", \"supported\");\n",
    "spdlog::info(\"{:<30}\", \"left aligned\");"
   ]
  },
  {
   "cell_type": "markdown",
   "metadata": {},
   "source": [
    "can also change the debug level on-the-fly"
   ]
  },
  {
   "cell_type": "code",
   "execution_count": 9,
   "metadata": {},
   "outputs": [],
   "source": [
    "spdlog::set_level(spdlog::level::debug);\n",
    "spdlog::debug(\"This DEBUG message will be displayed..\");"
   ]
  },
  {
   "cell_type": "markdown",
   "metadata": {},
   "source": [
    "Create stdout/stderr logger object"
   ]
  },
  {
   "cell_type": "code",
   "execution_count": 10,
   "metadata": {},
   "outputs": [],
   "source": [
    "#include <spdlog/sinks/stdout_color_sinks.h>\n",
    "\n",
    "auto console = spdlog::stdout_color_mt(\"console\");\n",
    "auto err_logger = spdlog::stderr_color_mt(\"stderr\");\n",
    "spdlog::get(\"console\")->info(\"loggers can be retrieved from a global registry using the spdlog::get(logger_name)\");"
   ]
  },
  {
   "cell_type": "markdown",
   "metadata": {},
   "source": [
    "## 1. Introduction"
   ]
  },
  {
   "cell_type": "markdown",
   "metadata": {},
   "source": [
    "1.1. Why Switch to spdlog?\n",
    "\n",
    "spdlog is a modern C++ logging library that offers high-performance and is feature-rich.\n",
    "Here are some reasons why we should consider switching to spdlog:\n",
    "\n",
    "- **Performance**: spdlog is known for its speed and **low** overhead, particularly for asynchronous logging.\n",
    "- **Flexibility**: It provides a variety of logging targets, known as sinks, such as console, file, rotating file, etc.\n",
    "- **User-friendly**: Its syntax is intuitive and easily configurable.\n",
    "- **Actively Maintained**: spdlog has an active community, ensuring regular updates and addressing issues promptly."
   ]
  },
  {
   "cell_type": "markdown",
   "metadata": {},
   "source": [
    "1.2. Key Differences between Poco and spdlog\n",
    "\n",
    "While both Poco and spdlog provide logging capabilities, the design principles are different.\n",
    "Here are a few examples:\n",
    "\n",
    "- **Initialization**:\n",
    "  - Poco: Requires more verbose setup for logging channels.\n",
    "  - spdlog: Simplified setup with easy-to-use factory functions.\n",
    "  \n",
    "- **Performance**:\n",
    "  - Poco: Good performance, but can be slower in some scenarios.\n",
    "  - spdlog: Designed for high-performance scenarios, especially with its asynchronous mode.\n",
    "  \n",
    "- **Syntax**:\n",
    "  - Poco: Uses traditional logging syntax with different methods for levels.\n",
    "  - spdlog: Uses a unified syntax with **format strings**.\n",
    "  \n",
    "- **Extensibility**:\n",
    "  - Poco: Provides extensive features beyond logging, making it heavier but versatile.\n",
    "  - spdlog: Focuses primarily on logging (single purpose).\n"
   ]
  },
  {
   "cell_type": "markdown",
   "metadata": {},
   "source": [
    "## 2. Setting up `spdlog`\n",
    "\n",
    "`spdlog` is a **header only** library, so there is no need to build it.\n",
    "As demonstrated in this tutorial, it is available from `conda-forge` and can be easily added as a dependency to your project."
   ]
  },
  {
   "cell_type": "markdown",
   "metadata": {},
   "source": [
    "## 3. Poco and spdlog"
   ]
  },
  {
   "cell_type": "markdown",
   "metadata": {},
   "source": [
    "3.1 Simple logging"
   ]
  },
  {
   "cell_type": "markdown",
   "metadata": {},
   "source": [
    "`poco`"
   ]
  },
  {
   "cell_type": "code",
   "execution_count": null,
   "metadata": {},
   "outputs": [],
   "source": [
    "%%executable poco_simple_logger\n",
    "\n",
    "#include <Poco/Logger.h>\n",
    "#include <Poco/ConsoleChannel.h>\n",
    "\n",
    "int main() {\n",
    "    // Setting up Poco logger\n",
    "    Poco::Logger& logger = Poco::Logger::get(\"ExampleLogger\"); // Create or get logger\n",
    "    logger.setChannel(new Poco::ConsoleChannel); // Set output channel\n",
    "    logger.setLevel(Poco::Message::PRIO_DEBUG);  // Set log level\n",
    "\n",
    "    // Simple loop\n",
    "    for (int i = 0; i < 5; i++) {\n",
    "        logger.debug(\"Poco Loop iteration: \" + std::to_string(i));\n",
    "    }\n",
    "\n",
    "    return 0;\n",
    "}"
   ]
  },
  {
   "cell_type": "code",
   "execution_count": null,
   "metadata": {},
   "outputs": [],
   "source": [
    "!./poco_simple_logger"
   ]
  },
  {
   "cell_type": "markdown",
   "metadata": {},
   "source": [
    "`spdlog`"
   ]
  },
  {
   "cell_type": "code",
   "execution_count": null,
   "metadata": {},
   "outputs": [],
   "source": [
    "%%executable spdlog_simple_logger\n",
    "\n",
    "#include <spdlog/spdlog.h>\n",
    "#include <spdlog/sinks/stdout_color_sinks.h>\n",
    "\n",
    "int main() {\n",
    "    // Setting up spdlog logger\n",
    "    auto console = spdlog::stdout_color_mt(\"ExampleLogger\"); // Create or get logger\n",
    "    spdlog::set_level(spdlog::level::debug); // Set log level\n",
    "\n",
    "    // Simple loop\n",
    "    for (int i = 0; i < 5; i++) {\n",
    "        spdlog::debug(\"spdlog Loop iteration: {}\", i);\n",
    "    }\n",
    "\n",
    "    return 0;\n",
    "}"
   ]
  },
  {
   "cell_type": "code",
   "execution_count": null,
   "metadata": {},
   "outputs": [],
   "source": [
    "!./spdlog_simple_logger"
   ]
  },
  {
   "cell_type": "markdown",
   "metadata": {},
   "source": [
    "**_Comparison_**:\n",
    "\n",
    "- Initialization:\n",
    "  - Poco: Requires setting up the logger, channel, and level separately.\n",
    "  - spdlog: Offers a more streamlined setup, particularly with predefined sinks like stdout_color_mt.\n",
    "- Syntax:\n",
    "  - Poco: Uses string concatenation for logging messages.\n",
    "  - spdlog: Uses a format string syntax (similar to Python's f-strings or printf), making it concise and more readable.\n",
    "- Performance:\n",
    "  - While both will handle this simple scenario with ease, in more extensive logging scenarios, spdlog might offer better performance, especially with its asynchronous logging capabilities."
   ]
  },
  {
   "cell_type": "markdown",
   "metadata": {},
   "source": [
    "3.2 With Namespace"
   ]
  },
  {
   "cell_type": "markdown",
   "metadata": {},
   "source": [
    "`poco`"
   ]
  },
  {
   "cell_type": "code",
   "execution_count": null,
   "metadata": {},
   "outputs": [],
   "source": [
    "%%executable poco_multiple_loggers\n",
    "\n",
    "#include <Poco/Logger.h>\n",
    "#include <Poco/ConsoleChannel.h>\n",
    "#include <string>\n",
    "\n",
    "namespace namespace_a {\n",
    "    void logMessage() {\n",
    "        Poco::Logger& logger = Poco::Logger::get(\"namespace_a\");\n",
    "        logger.debug(\"This is a debug message from namespace_a\");\n",
    "    }\n",
    "}\n",
    "\n",
    "namespace namespace_b {\n",
    "    void logMessage() {\n",
    "        Poco::Logger& logger = Poco::Logger::get(\"namespace_b\");\n",
    "        logger.debug(\"This is a debug message from namespace_b\");\n",
    "    }\n",
    "}\n",
    "\n",
    "int main() {\n",
    "    Poco::Logger::root().setChannel(new Poco::ConsoleChannel);\n",
    "    Poco::Logger::root().setLevel(Poco::Message::PRIO_DEBUG);\n",
    "    \n",
    "    namespace_a::logMessage();\n",
    "    namespace_b::logMessage();\n",
    "\n",
    "    return 0;\n",
    "}"
   ]
  },
  {
   "cell_type": "code",
   "execution_count": null,
   "metadata": {},
   "outputs": [],
   "source": [
    "!./poco_multiple_loggers"
   ]
  },
  {
   "cell_type": "markdown",
   "metadata": {},
   "source": [
    "`spdlog`"
   ]
  },
  {
   "cell_type": "code",
   "execution_count": null,
   "metadata": {},
   "outputs": [],
   "source": [
    "%%executable spdlog_multiple_loggers\n",
    "\n",
    "#include <spdlog/spdlog.h>\n",
    "#include <spdlog/sinks/stdout_color_sinks.h>\n",
    "\n",
    "namespace namespace_a {\n",
    "    void logMessage() {\n",
    "        auto logger = spdlog::get(\"namespace_a\");\n",
    "        if (!logger) {\n",
    "            logger = spdlog::stdout_color_mt(\"namespace_a\");\n",
    "        }\n",
    "        logger->debug(\"This is a debug message from namespace_a\");\n",
    "    }\n",
    "}\n",
    "\n",
    "namespace namespace_b {\n",
    "    void logMessage() {\n",
    "        auto logger = spdlog::get(\"namespace_b\");\n",
    "        if (!logger) {\n",
    "            logger = spdlog::stdout_color_mt(\"namespace_b\");\n",
    "        }\n",
    "        logger->debug(\"This is a debug message from namespace_b\");\n",
    "    }\n",
    "}\n",
    "\n",
    "int main() {\n",
    "    spdlog::set_level(spdlog::level::debug);\n",
    "    \n",
    "    namespace_a::logMessage();\n",
    "    namespace_b::logMessage();\n",
    "\n",
    "    return 0;\n",
    "}\n"
   ]
  },
  {
   "cell_type": "code",
   "execution_count": null,
   "metadata": {},
   "outputs": [],
   "source": [
    "!./spdlog_multiple_loggers"
   ]
  },
  {
   "cell_type": "markdown",
   "metadata": {},
   "source": [
    "**_Comparison_**:\n",
    "\n",
    "- Logger Creation:\n",
    "  - Poco: Uses the Poco::Logger::get method to either retrieve an existing logger or create a new one. Logger creation is lazy (i.e., it's created when first called).\n",
    "  - spdlog: Uses the spdlog::get method to retrieve a logger, and if it doesn't exist, it creates one using the spdlog::stdout_color_mt method. This approach ensures that the logger is created only once.\n",
    "- Namespacing:\n",
    "  For both Poco and spdlog, the logger name acts as an implicit namespace. The name can be used to differentiate loggers, making it easier to manage and filter logs from different parts of the application.\n",
    "- Customization:\n",
    "  - Poco: Allows for different channels, formatters, and configurations to be set per logger.\n",
    "  - spdlog: Provides the ability to set different sinks, formatters, and configurations per logger."
   ]
  },
  {
   "cell_type": "markdown",
   "metadata": {},
   "source": [
    "## 4. Advanced `spdlog` features"
   ]
  },
  {
   "cell_type": "markdown",
   "metadata": {},
   "source": [
    "4.1 Asynchronous Logging\n",
    "\n",
    "`spdlog`` supports asynchronous logging to boost performance.\n",
    "When logging asynchronously, log messages are pushed into a lock-free queue and are processed by a dedicated thread."
   ]
  },
  {
   "cell_type": "code",
   "execution_count": null,
   "metadata": {},
   "outputs": [],
   "source": [
    "%%executable async_logger\n",
    "\n",
    "#include <spdlog/async.h>\n",
    "#include <spdlog/sinks/stdout_color_sinks.h>\n",
    "\n",
    "int main() {\n",
    "    // Initialize the async logger\n",
    "    spdlog::init_thread_pool(8192, 1);  // queue size 8192, 1 backing thread\n",
    "    auto async_logger = spdlog::stdout_color_mt<spdlog::async_factory>(\"async_logger\");\n",
    "    \n",
    "    async_logger->info(\"This is an async log message\");\n",
    "    \n",
    "    return 0;\n",
    "}\n"
   ]
  },
  {
   "cell_type": "code",
   "execution_count": null,
   "metadata": {},
   "outputs": [],
   "source": [
    "!./async_logger"
   ]
  },
  {
   "cell_type": "markdown",
   "metadata": {},
   "source": [
    "4.2 Rotating File Logging\n",
    "\n",
    "With `spdlog``, you can create rotating log files.\n",
    "Once a log file reaches a certain size, a new file is created."
   ]
  },
  {
   "cell_type": "code",
   "execution_count": null,
   "metadata": {},
   "outputs": [],
   "source": [
    "%%executable rotating_logger\n",
    "\n",
    "#include <spdlog/sinks/rotating_file_sink.h>\n",
    "\n",
    "int main() {\n",
    "    auto rotating_logger = spdlog::rotating_logger_mt(\"rotating_logger\", \"mylogfile\", 1024 * 1024 * 5, 3);  // 5MB rotating log\n",
    "    rotating_logger->info(\"This will be logged to a rotating log file\");\n",
    "    \n",
    "    return 0;\n",
    "}\n"
   ]
  },
  {
   "cell_type": "code",
   "execution_count": null,
   "metadata": {},
   "outputs": [],
   "source": [
    "./rotating_logger"
   ]
  },
  {
   "cell_type": "markdown",
   "metadata": {},
   "source": [
    "4.3 Multi-threading\n",
    "\n",
    "`spdlog` is thread-safe and supports multi-threaded logging out of the box.\n"
   ]
  },
  {
   "cell_type": "code",
   "execution_count": null,
   "metadata": {},
   "outputs": [],
   "source": [
    "%%executable thread_logger\n",
    "\n",
    "#include <thread>\n",
    "\n",
    "int main() {\n",
    "    auto logger = spdlog::stdout_color_mt(\"mt_logger\");\n",
    "    \n",
    "    std::thread t1([&](){\n",
    "        logger->info(\"Logged from thread 1\");\n",
    "    });\n",
    "    \n",
    "    std::thread t2([&](){\n",
    "        logger->info(\"Logged from thread 2\");\n",
    "    });\n",
    "    \n",
    "    t1.join();\n",
    "    t2.join();\n",
    "    \n",
    "    return 0;\n",
    "}"
   ]
  },
  {
   "cell_type": "code",
   "execution_count": null,
   "metadata": {},
   "outputs": [],
   "source": [
    "./thread_logger"
   ]
  },
  {
   "cell_type": "markdown",
   "metadata": {},
   "source": [
    "## 5. Where to go from here\n",
    "\n",
    "`spdlog` is a header-only library, so here are a few ways to adopt it:\n",
    "\n",
    "- use it as a replacement for some of the logging in your existing project\n",
    "- for some small module, consider using `spdlog` as a local logger, in addition to the main logger based on `poco`.\n",
    "- start using it in some satelite project, and see how it goes.\n"
   ]
  },
  {
   "cell_type": "markdown",
   "metadata": {},
   "source": []
  }
 ],
 "metadata": {
  "kernelspec": {
   "display_name": "C++17",
   "language": "C++17",
   "name": "xcpp17"
  },
  "language_info": {
   "codemirror_mode": "text/x-c++src",
   "file_extension": ".cpp",
   "mimetype": "text/x-c++src",
   "name": "c++",
   "version": "17"
  }
 },
 "nbformat": 4,
 "nbformat_minor": 4
}
